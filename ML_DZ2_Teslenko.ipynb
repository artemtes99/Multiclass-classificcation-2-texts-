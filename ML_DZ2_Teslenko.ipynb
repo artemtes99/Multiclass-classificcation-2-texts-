{
 "cells": [
  {
   "cell_type": "code",
   "execution_count": 1,
   "id": "3fc4291d",
   "metadata": {
    "scrolled": true
   },
   "outputs": [
    {
     "name": "stdout",
     "output_type": "stream",
     "text": [
      "Requirement already satisfied: pymystem3 in c:\\users\\artem\\anaconda3\\lib\\site-packages (0.2.0)\n",
      "Requirement already satisfied: requests in c:\\users\\artem\\anaconda3\\lib\\site-packages (from pymystem3) (2.25.1)\n",
      "Requirement already satisfied: certifi>=2017.4.17 in c:\\users\\artem\\anaconda3\\lib\\site-packages (from requests->pymystem3) (2020.12.5)\n",
      "Requirement already satisfied: idna<3,>=2.5 in c:\\users\\artem\\anaconda3\\lib\\site-packages (from requests->pymystem3) (2.10)\n",
      "Requirement already satisfied: urllib3<1.27,>=1.21.1 in c:\\users\\artem\\anaconda3\\lib\\site-packages (from requests->pymystem3) (1.26.4)\n",
      "Requirement already satisfied: chardet<5,>=3.0.2 in c:\\users\\artem\\anaconda3\\lib\\site-packages (from requests->pymystem3) (4.0.0)\n",
      "Requirement already satisfied: pymorphy2 in c:\\users\\artem\\anaconda3\\lib\\site-packages (0.9.1)\n",
      "Requirement already satisfied: dawg-python>=0.7.1 in c:\\users\\artem\\anaconda3\\lib\\site-packages (from pymorphy2) (0.7.2)\n",
      "Requirement already satisfied: docopt>=0.6 in c:\\users\\artem\\anaconda3\\lib\\site-packages (from pymorphy2) (0.6.2)\n",
      "Requirement already satisfied: pymorphy2-dicts-ru<3.0,>=2.4 in c:\\users\\artem\\anaconda3\\lib\\site-packages (from pymorphy2) (2.4.417127.4579844)\n"
     ]
    }
   ],
   "source": [
    "!pip install pymystem3\n",
    "!pip install pymorphy2"
   ]
  },
  {
   "cell_type": "code",
   "execution_count": 2,
   "id": "a4aab540",
   "metadata": {
    "scrolled": true
   },
   "outputs": [
    {
     "name": "stdout",
     "output_type": "stream",
     "text": [
      "Requirement already satisfied: razdel in c:\\users\\artem\\anaconda3\\lib\\site-packages (0.5.0)\n"
     ]
    }
   ],
   "source": [
    "!pip install razdel"
   ]
  },
  {
   "cell_type": "code",
   "execution_count": 3,
   "id": "d4789995",
   "metadata": {},
   "outputs": [
    {
     "name": "stdout",
     "output_type": "stream",
     "text": [
      "Requirement already satisfied: nltk in c:\\users\\artem\\anaconda3\\lib\\site-packages (3.6.1)\n",
      "Requirement already satisfied: joblib in c:\\users\\artem\\anaconda3\\lib\\site-packages (from nltk) (1.0.1)\n",
      "Requirement already satisfied: regex in c:\\users\\artem\\anaconda3\\lib\\site-packages (from nltk) (2021.4.4)\n",
      "Requirement already satisfied: tqdm in c:\\users\\artem\\anaconda3\\lib\\site-packages (from nltk) (4.59.0)\n",
      "Requirement already satisfied: click in c:\\users\\artem\\anaconda3\\lib\\site-packages (from nltk) (7.1.2)\n"
     ]
    }
   ],
   "source": [
    "!pip install nltk"
   ]
  },
  {
   "cell_type": "code",
   "execution_count": 4,
   "id": "b5a7a50a",
   "metadata": {
    "scrolled": true
   },
   "outputs": [],
   "source": [
    "import numpy as np \n",
    "import pandas as pd\n",
    "import re\n",
    "from pymystem3 import Mystem\n",
    "import pymorphy2\n",
    "from pymorphy2.tokenizers import simple_word_tokenize"
   ]
  },
  {
   "cell_type": "code",
   "execution_count": 5,
   "id": "898a4b48",
   "metadata": {},
   "outputs": [],
   "source": [
    "train = pd.read_csv('train.csv', sep=';')\n",
    "test = pd.read_csv('test.csv', sep=';')"
   ]
  },
  {
   "cell_type": "code",
   "execution_count": 6,
   "id": "1dc4c80c",
   "metadata": {},
   "outputs": [
    {
     "data": {
      "text/html": [
       "<div>\n",
       "<style scoped>\n",
       "    .dataframe tbody tr th:only-of-type {\n",
       "        vertical-align: middle;\n",
       "    }\n",
       "\n",
       "    .dataframe tbody tr th {\n",
       "        vertical-align: top;\n",
       "    }\n",
       "\n",
       "    .dataframe thead th {\n",
       "        text-align: right;\n",
       "    }\n",
       "</style>\n",
       "<table border=\"1\" class=\"dataframe\">\n",
       "  <thead>\n",
       "    <tr style=\"text-align: right;\">\n",
       "      <th></th>\n",
       "      <th>id</th>\n",
       "      <th>text</th>\n",
       "      <th>label</th>\n",
       "    </tr>\n",
       "  </thead>\n",
       "  <tbody>\n",
       "    <tr>\n",
       "      <th>0</th>\n",
       "      <td>0</td>\n",
       "      <td>Я не знаю  какая Ты в жизни  в постели  в быту...</td>\n",
       "      <td>1</td>\n",
       "    </tr>\n",
       "    <tr>\n",
       "      <th>1</th>\n",
       "      <td>1</td>\n",
       "      <td>Херсон рулит есть д для жизни я п 32 068 160 9...</td>\n",
       "      <td>1</td>\n",
       "    </tr>\n",
       "    <tr>\n",
       "      <th>2</th>\n",
       "      <td>2</td>\n",
       "      <td>решил поглумиться, 15000 итераций 0.001 лр</td>\n",
       "      <td>2</td>\n",
       "    </tr>\n",
       "    <tr>\n",
       "      <th>3</th>\n",
       "      <td>3</td>\n",
       "      <td>М.48 ДЛЯ ЛЮДЫ! СМС 093.087.16.85</td>\n",
       "      <td>1</td>\n",
       "    </tr>\n",
       "    <tr>\n",
       "      <th>4</th>\n",
       "      <td>4</td>\n",
       "      <td>М 33 позн с д/ж  093 76 46 933 Киев</td>\n",
       "      <td>1</td>\n",
       "    </tr>\n",
       "    <tr>\n",
       "      <th>5</th>\n",
       "      <td>5</td>\n",
       "      <td>парень скучает девушки приселайте прилольние м...</td>\n",
       "      <td>1</td>\n",
       "    </tr>\n",
       "    <tr>\n",
       "      <th>6</th>\n",
       "      <td>6</td>\n",
       "      <td>argparse прекрасно делает все то, что мне от н...</td>\n",
       "      <td>0</td>\n",
       "    </tr>\n",
       "    <tr>\n",
       "      <th>7</th>\n",
       "      <td>7</td>\n",
       "      <td>Напиши в поиске винды «Переименовать компьютер».</td>\n",
       "      <td>0</td>\n",
       "    </tr>\n",
       "    <tr>\n",
       "      <th>8</th>\n",
       "      <td>8</td>\n",
       "      <td>да и все остальные \"сглаживаются\" спомощью pri...</td>\n",
       "      <td>2</td>\n",
       "    </tr>\n",
       "    <tr>\n",
       "      <th>9</th>\n",
       "      <td>9</td>\n",
       "      <td>вангую, что выйдет чуть больше 1700 в месяц чи...</td>\n",
       "      <td>2</td>\n",
       "    </tr>\n",
       "  </tbody>\n",
       "</table>\n",
       "</div>"
      ],
      "text/plain": [
       "   id                                               text  label\n",
       "0   0  Я не знаю  какая Ты в жизни  в постели  в быту...      1\n",
       "1   1  Херсон рулит есть д для жизни я п 32 068 160 9...      1\n",
       "2   2         решил поглумиться, 15000 итераций 0.001 лр      2\n",
       "3   3                   М.48 ДЛЯ ЛЮДЫ! СМС 093.087.16.85      1\n",
       "4   4                М 33 позн с д/ж  093 76 46 933 Киев      1\n",
       "5   5  парень скучает девушки приселайте прилольние м...      1\n",
       "6   6  argparse прекрасно делает все то, что мне от н...      0\n",
       "7   7   Напиши в поиске винды «Переименовать компьютер».      0\n",
       "8   8  да и все остальные \"сглаживаются\" спомощью pri...      2\n",
       "9   9  вангую, что выйдет чуть больше 1700 в месяц чи...      2"
      ]
     },
     "execution_count": 6,
     "metadata": {},
     "output_type": "execute_result"
    }
   ],
   "source": [
    "train.head(10)"
   ]
  },
  {
   "cell_type": "code",
   "execution_count": 7,
   "id": "c69a2bd9",
   "metadata": {},
   "outputs": [],
   "source": [
    "train_text = train['text']"
   ]
  },
  {
   "cell_type": "code",
   "execution_count": 8,
   "id": "5be1cb36",
   "metadata": {
    "scrolled": true
   },
   "outputs": [
    {
     "name": "stderr",
     "output_type": "stream",
     "text": [
      "<ipython-input-8-ad61826ae761>:2: SettingWithCopyWarning: \n",
      "A value is trying to be set on a copy of a slice from a DataFrame\n",
      "\n",
      "See the caveats in the documentation: https://pandas.pydata.org/pandas-docs/stable/user_guide/indexing.html#returning-a-view-versus-a-copy\n",
      "  train_text[i] = re.sub('[^а-яА-Яa-zA-Z]+', ' ', train_text[i]).lower()\n"
     ]
    }
   ],
   "source": [
    "for i in range(len(train_text)):\n",
    "    train_text[i] = re.sub('[^а-яА-Яa-zA-Z]+', ' ', train_text[i]).lower()"
   ]
  },
  {
   "cell_type": "code",
   "execution_count": 9,
   "id": "08552951",
   "metadata": {},
   "outputs": [
    {
     "data": {
      "text/plain": [
       "0        я не знаю какая ты в жизни в постели в быту но...\n",
       "1                       херсон рулит есть д для жизни я п \n",
       "2                            решил поглумиться итераций лр\n",
       "3                                          м для люды смс \n",
       "4                                        м позн с д ж киев\n",
       "                               ...                        \n",
       "78721    у меня наверно говенные авиалинии nно вот все ...\n",
       "78722    он по крайне мере бесплатный имеет нормальный ...\n",
       "78723                         я уточню у грефа ладно ладно\n",
       "78724    да пока так и делаю но у ребят все быстро меня...\n",
       "78725    нее так как я не умею выбирать пусть у меня бу...\n",
       "Name: text, Length: 78726, dtype: object"
      ]
     },
     "execution_count": 9,
     "metadata": {},
     "output_type": "execute_result"
    }
   ],
   "source": [
    "train_text"
   ]
  },
  {
   "cell_type": "code",
   "execution_count": 10,
   "id": "a03c4786",
   "metadata": {},
   "outputs": [],
   "source": [
    "%matplotlib inline\n",
    "\n",
    "import tqdm\n",
    "from sklearn.svm import LinearSVC\n",
    "from sklearn.metrics import classification_report"
   ]
  },
  {
   "cell_type": "code",
   "execution_count": 11,
   "id": "42b66879",
   "metadata": {},
   "outputs": [],
   "source": [
    "from sklearn.model_selection import train_test_split"
   ]
  },
  {
   "cell_type": "code",
   "execution_count": 48,
   "id": "fc933ba0",
   "metadata": {},
   "outputs": [],
   "source": [
    "X_train, X_test, y_train, y_test = train_test_split(train['text'], train['label'],\n",
    "                                                    test_size=0.05)"
   ]
  },
  {
   "cell_type": "code",
   "execution_count": 49,
   "id": "d4af1fd5",
   "metadata": {},
   "outputs": [],
   "source": [
    "def evaluate_vectorizer(vectorizer, train, test, y_train, y_test):\n",
    "    train_vectors = vectorizer.fit_transform(X_train)\n",
    "    test_vectors = vectorizer.transform(X_test)\n",
    "    \n",
    "    clf = LinearSVC(random_state=42)\n",
    "    clf.fit(train_vectors, y_train)\n",
    "    \n",
    "    predictions = clf.predict(test_vectors)\n",
    "    print(classification_report(y_test, predictions))\n",
    "    return clf"
   ]
  },
  {
   "cell_type": "code",
   "execution_count": 50,
   "id": "6609841e",
   "metadata": {},
   "outputs": [],
   "source": [
    "from sklearn.feature_extraction.text import CountVectorizer\n",
    "from sklearn.feature_extraction.text import TfidfVectorizer"
   ]
  },
  {
   "cell_type": "code",
   "execution_count": 51,
   "id": "aae5f2e3",
   "metadata": {},
   "outputs": [
    {
     "data": {
      "text/plain": [
       "62670                 где бумбокс летний дождь спать хочу \n",
       "66733    ну если ты например выкинешь результаты то и н...\n",
       "77119                парен познак муж л днепр смр смр звн \n",
       "12083     м о ищу женщхуденьк поряд не курящ с семьи дн...\n",
       "45741                     для вашего же удобства исправил \n",
       "                               ...                        \n",
       "71697    познак со свободн стройн дев рыбы для общ и се...\n",
       "60641    там где то на этот график еще пару работ докид...\n",
       "22796                             или я что то не понимаю \n",
       "42327                   хорошо что не тратила на это время\n",
       "32768                        м позн с женщ которая всегда \n",
       "Name: text, Length: 74789, dtype: object"
      ]
     },
     "execution_count": 51,
     "metadata": {},
     "output_type": "execute_result"
    }
   ],
   "source": [
    "X_train"
   ]
  },
  {
   "cell_type": "code",
   "execution_count": 16,
   "id": "cb2e7c00",
   "metadata": {
    "scrolled": false
   },
   "outputs": [],
   "source": [
    "clf1 = evaluate_vectorizer(TfidfVectorizer(), X_train, X_test, y_train, y_test)"
   ]
  },
  {
   "cell_type": "code",
   "execution_count": 17,
   "id": "df5973a8",
   "metadata": {},
   "outputs": [
    {
     "data": {
      "text/plain": [
       "24381    рыжая бестия встретится сейчас с мужчиной заед...\n",
       "497      добрый и нежный п л ищу дев л для общ и отноше...\n",
       "2092     короче если на учете d стоит то вообще каждые ...\n",
       "78031    зая люблю тока тебя извени тока тебя извени чт...\n",
       "3514        п скрасит досуг дев жен приеду есть мтс киевст\n",
       "                               ...                        \n",
       "28450    п познакомлюсь с девушкой для серьезных отноше...\n",
       "12766    а многие забили на этот чат и с радостью заним...\n",
       "33966                        http doc qt io qt layout html\n",
       "35041             пикл быстрее жсона и умеет сохранять все\n",
       "2336             если бы сиськи можно было потрогать сразу\n",
       "Name: text, Length: 55108, dtype: object"
      ]
     },
     "execution_count": 17,
     "metadata": {},
     "output_type": "execute_result"
    }
   ],
   "source": [
    "X_train"
   ]
  },
  {
   "cell_type": "code",
   "execution_count": 18,
   "id": "c5cf7123",
   "metadata": {},
   "outputs": [],
   "source": [
    "import razdel"
   ]
  },
  {
   "cell_type": "code",
   "execution_count": 52,
   "id": "d5cb3793",
   "metadata": {},
   "outputs": [],
   "source": [
    "def tokenize_with_razdel(text):\n",
    "    tokens = [token.text for token in razdel.tokenize(text)]\n",
    "    \n",
    "    return tokens"
   ]
  },
  {
   "cell_type": "code",
   "execution_count": 33,
   "id": "6aa6bd54",
   "metadata": {},
   "outputs": [],
   "source": [
    "evaluate_vectorizer(TfidfVectorizer(tokenizer=tokenize_with_razdel), X_train, X_test, y_train, y_test);"
   ]
  },
  {
   "cell_type": "code",
   "execution_count": 53,
   "id": "397a098e",
   "metadata": {},
   "outputs": [],
   "source": [
    "from pymorphy2 import MorphAnalyzer\n",
    "\n",
    "pymorphy = MorphAnalyzer()\n",
    "\n",
    "\n",
    "def lemmatize_with_pymorphy(tokens):\n",
    "    lemms = [pymorphy.parse(token)[0].normal_form for token in tokens]\n",
    "    return lemms"
   ]
  },
  {
   "cell_type": "code",
   "execution_count": 61,
   "id": "7c924fd4",
   "metadata": {
    "scrolled": true
   },
   "outputs": [
    {
     "name": "stderr",
     "output_type": "stream",
     "text": [
      "C:\\Users\\artem\\Anaconda3\\lib\\site-packages\\sklearn\\feature_extraction\\text.py:388: UserWarning: Your stop_words may be inconsistent with your preprocessing. Tokenizing the stop words generated tokens ['большой', 'весь', 'всё', 'ещё', 'мочь', 'нибыть', 'свой', 'хороший', 'это'] not in stop_words.\n",
      "  warnings.warn('Your stop_words may be inconsistent with '\n"
     ]
    },
    {
     "name": "stdout",
     "output_type": "stream",
     "text": [
      "              precision    recall  f1-score   support\n",
      "\n",
      "           0       0.79      0.70      0.74       751\n",
      "           1       0.98      0.97      0.97      1787\n",
      "           2       0.83      0.88      0.85      1399\n",
      "\n",
      "    accuracy                           0.89      3937\n",
      "   macro avg       0.87      0.85      0.86      3937\n",
      "weighted avg       0.89      0.89      0.89      3937\n",
      "\n"
     ]
    }
   ],
   "source": [
    "tfidf_vectorizer = TfidfVectorizer(\n",
    "    tokenizer=lambda text: lemmatize_with_pymorphy(tokenize_with_razdel(text)),\n",
    ")\n",
    "\n",
    "clf2 = evaluate_vectorizer(tfidf_vectorizer, X_train, X_test, y_train, y_test)"
   ]
  },
  {
   "cell_type": "code",
   "execution_count": 36,
   "id": "1c1845b6",
   "metadata": {},
   "outputs": [],
   "source": [
    "test_text = test['text']"
   ]
  },
  {
   "cell_type": "code",
   "execution_count": 37,
   "id": "c71f2f9d",
   "metadata": {
    "scrolled": true
   },
   "outputs": [
    {
     "name": "stderr",
     "output_type": "stream",
     "text": [
      "<ipython-input-37-9d92444a5416>:2: SettingWithCopyWarning: \n",
      "A value is trying to be set on a copy of a slice from a DataFrame\n",
      "\n",
      "See the caveats in the documentation: https://pandas.pydata.org/pandas-docs/stable/user_guide/indexing.html#returning-a-view-versus-a-copy\n",
      "  test_text[i] = re.sub('[^а-яА-Яa-zA-Z]+', ' ', test_text[i]).lower()\n"
     ]
    }
   ],
   "source": [
    "for i in range(len(test_text)):\n",
    "    test_text[i] = re.sub('[^а-яА-Яa-zA-Z]+', ' ', test_text[i]).lower()"
   ]
  },
  {
   "cell_type": "code",
   "execution_count": 55,
   "id": "4bb5b5dd",
   "metadata": {},
   "outputs": [],
   "source": [
    "def get_csv(vectorizer, test, clf):\n",
    "    test_vectors = vectorizer.transform(test['text'])\n",
    "    \n",
    "    target = 'label'\n",
    "    test[target] = clf.predict(test_vectors)\n",
    "    test[['id', target]].to_csv('sub_baseline2.csv', index=None)\n",
    "#     print('Size of vocabulary', len(vectorizer.vocabulary_))"
   ]
  },
  {
   "cell_type": "code",
   "execution_count": 62,
   "id": "c84e5f2c",
   "metadata": {},
   "outputs": [],
   "source": [
    "get_csv(tfidf_vectorizer, test, clf2)"
   ]
  }
 ],
 "metadata": {
  "kernelspec": {
   "display_name": "Python 3",
   "language": "python",
   "name": "python3"
  },
  "language_info": {
   "codemirror_mode": {
    "name": "ipython",
    "version": 3
   },
   "file_extension": ".py",
   "mimetype": "text/x-python",
   "name": "python",
   "nbconvert_exporter": "python",
   "pygments_lexer": "ipython3",
   "version": "3.8.8"
  }
 },
 "nbformat": 4,
 "nbformat_minor": 5
}
